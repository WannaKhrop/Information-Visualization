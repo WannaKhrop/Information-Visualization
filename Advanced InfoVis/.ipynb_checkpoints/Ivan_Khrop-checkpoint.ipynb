{
 "cells": [
  {
   "cell_type": "code",
   "execution_count": 169,
   "id": "b5b84193",
   "metadata": {},
   "outputs": [],
   "source": [
    "import numpy as np\n",
    "import pandas as pd\n",
    "import matplotlib.pyplot as plt\n",
    "import seaborn as sns\n",
    "\n",
    "import plotly.express as px \n",
    "import plotly.graph_objects as go\n",
    "from ipywidgets import widgets"
   ]
  },
  {
   "cell_type": "code",
   "execution_count": 170,
   "id": "cc45150c",
   "metadata": {},
   "outputs": [],
   "source": [
    "my_cat_palette = sns.color_palette('Set2')\n",
    "my_cont_palette = sns.color_palette('Blues')\n",
    "sns.set_context('notebook')"
   ]
  },
  {
   "cell_type": "code",
   "execution_count": 171,
   "id": "27c8700a",
   "metadata": {},
   "outputs": [],
   "source": [
    "data_folder = './data/'\n",
    "credit_score_file = 'credit_score.csv'\n",
    "disasters_file = 'disasters_data.csv'"
   ]
  },
  {
   "cell_type": "markdown",
   "id": "66cd8819",
   "metadata": {},
   "source": [
    "# Part 2: Exploring multdimensional and hierarchical data with interaction\n",
    "\n",
    "👉 **TODO 2.1:**  Choose a **multidimensional** dataset and explore it by creating interactive visualizations with Plotly. In your exploration, make use of at least one chart type for multidimensional data. See the Plotly overview of chart types [here](https://plotly.com/python/plotly-express/). \n",
    "\n",
    "At the end of your exploration, write a short summary that reflects on the interactions you used and how they impacted your exploration (in addition to the reflections per chart, as before). For example, you could mention if they helped you to identify a specific pattern or gain a specific insight (or not)."
   ]
  },
  {
   "cell_type": "markdown",
   "id": "f8d1adb3",
   "metadata": {},
   "source": [
    "My multidimensional dataset was dowloaded from Kaggle: https://www.kaggle.com/datasets/sujithmandala/credit-score-classification-dataset\n",
    "\n",
    "It describes the credit score classification of people considering several parameters"
   ]
  },
  {
   "cell_type": "code",
   "execution_count": 172,
   "id": "a74f9989",
   "metadata": {},
   "outputs": [],
   "source": [
    "mdm_df = pd.read_csv(data_folder + credit_score_file)"
   ]
  },
  {
   "cell_type": "code",
   "execution_count": 173,
   "id": "898406d6",
   "metadata": {},
   "outputs": [
    {
     "data": {
      "text/html": [
       "<div>\n",
       "<style scoped>\n",
       "    .dataframe tbody tr th:only-of-type {\n",
       "        vertical-align: middle;\n",
       "    }\n",
       "\n",
       "    .dataframe tbody tr th {\n",
       "        vertical-align: top;\n",
       "    }\n",
       "\n",
       "    .dataframe thead th {\n",
       "        text-align: right;\n",
       "    }\n",
       "</style>\n",
       "<table border=\"1\" class=\"dataframe\">\n",
       "  <thead>\n",
       "    <tr style=\"text-align: right;\">\n",
       "      <th></th>\n",
       "      <th>Age</th>\n",
       "      <th>Gender</th>\n",
       "      <th>Income</th>\n",
       "      <th>Education</th>\n",
       "      <th>Marital Status</th>\n",
       "      <th>Number of Children</th>\n",
       "      <th>Home Ownership</th>\n",
       "      <th>Credit Score</th>\n",
       "    </tr>\n",
       "  </thead>\n",
       "  <tbody>\n",
       "    <tr>\n",
       "      <th>0</th>\n",
       "      <td>25</td>\n",
       "      <td>Female</td>\n",
       "      <td>50000</td>\n",
       "      <td>Bachelor's Degree</td>\n",
       "      <td>Single</td>\n",
       "      <td>0</td>\n",
       "      <td>Rented</td>\n",
       "      <td>High</td>\n",
       "    </tr>\n",
       "    <tr>\n",
       "      <th>1</th>\n",
       "      <td>30</td>\n",
       "      <td>Male</td>\n",
       "      <td>100000</td>\n",
       "      <td>Master's Degree</td>\n",
       "      <td>Married</td>\n",
       "      <td>2</td>\n",
       "      <td>Owned</td>\n",
       "      <td>High</td>\n",
       "    </tr>\n",
       "    <tr>\n",
       "      <th>2</th>\n",
       "      <td>35</td>\n",
       "      <td>Female</td>\n",
       "      <td>75000</td>\n",
       "      <td>Doctorate</td>\n",
       "      <td>Married</td>\n",
       "      <td>1</td>\n",
       "      <td>Owned</td>\n",
       "      <td>High</td>\n",
       "    </tr>\n",
       "    <tr>\n",
       "      <th>3</th>\n",
       "      <td>40</td>\n",
       "      <td>Male</td>\n",
       "      <td>125000</td>\n",
       "      <td>High School Diploma</td>\n",
       "      <td>Single</td>\n",
       "      <td>0</td>\n",
       "      <td>Owned</td>\n",
       "      <td>High</td>\n",
       "    </tr>\n",
       "    <tr>\n",
       "      <th>4</th>\n",
       "      <td>45</td>\n",
       "      <td>Female</td>\n",
       "      <td>100000</td>\n",
       "      <td>Bachelor's Degree</td>\n",
       "      <td>Married</td>\n",
       "      <td>3</td>\n",
       "      <td>Owned</td>\n",
       "      <td>High</td>\n",
       "    </tr>\n",
       "  </tbody>\n",
       "</table>\n",
       "</div>"
      ],
      "text/plain": [
       "   Age  Gender  Income            Education Marital Status  \\\n",
       "0   25  Female   50000    Bachelor's Degree         Single   \n",
       "1   30    Male  100000      Master's Degree        Married   \n",
       "2   35  Female   75000            Doctorate        Married   \n",
       "3   40    Male  125000  High School Diploma         Single   \n",
       "4   45  Female  100000    Bachelor's Degree        Married   \n",
       "\n",
       "   Number of Children Home Ownership Credit Score  \n",
       "0                   0         Rented         High  \n",
       "1                   2          Owned         High  \n",
       "2                   1          Owned         High  \n",
       "3                   0          Owned         High  \n",
       "4                   3          Owned         High  "
      ]
     },
     "execution_count": 173,
     "metadata": {},
     "output_type": "execute_result"
    }
   ],
   "source": [
    "mdm_df.head()"
   ]
  },
  {
   "cell_type": "code",
   "execution_count": 174,
   "id": "1c078531",
   "metadata": {},
   "outputs": [],
   "source": [
    "# Convert Credit Score column to numbers\n",
    "target = 'Credit Score'\n",
    "\n",
    "score_to_num = {'High' : 1.0, 'Average' : 0.5, 'Low' : 0.0}\n",
    "num_to_score = {1.0 : 'High', 0.5 : 'Average', 0.0 : 'Low'}\n",
    "    \n",
    "mdm_df[target] = mdm_df[target].apply(lambda x: score_to_num[x])\n",
    "\n",
    "# Convert Education column\n",
    "def convertion(level):\n",
    "    words = level.split()\n",
    "    if len(words) > 2:\n",
    "        return ' '.join(words[0:2])\n",
    "    else:\n",
    "        return words[0].rstrip(\"'s\")\n",
    "\n",
    "mdm_df['Education'] = mdm_df['Education'].apply(convertion)"
   ]
  },
  {
   "cell_type": "code",
   "execution_count": 175,
   "id": "d9fc67d4",
   "metadata": {
    "scrolled": false
   },
   "outputs": [
    {
     "data": {
      "application/vnd.jupyter.widget-view+json": {
       "model_id": "ab5c75b80b6c43eeace494c7cd67cf3f",
       "version_major": 2,
       "version_minor": 0
      },
      "text/plain": [
       "VBox(children=(FigureWidget({\n",
       "    'data': [{'dimensions': [{'label': 'Number of Children',\n",
       "                   …"
      ]
     },
     "metadata": {},
     "output_type": "display_data"
    }
   ],
   "source": [
    "# Color for both plots\n",
    "color = mdm_df[target]\n",
    "scale = [[0.0, 'rgb(243, 231, 155)'], [0.5, 'rgb(235, 127, 134)'], [1.0, 'rgb(92, 83, 165)']]\n",
    "\n",
    "# Columns selection\n",
    "categorical_columns = ['Home Ownership', 'Gender', 'Marital Status', 'Education']\n",
    "numerical_columns = ['Number of Children', 'Income', 'Age']\n",
    "\n",
    "# Create dimensions and set up for interactions\n",
    "def create_dimension(df, column):\n",
    "    return go.parcats.Dimension(values=df[column], label=column)\n",
    "\n",
    "def create_num_dimension(df, column):\n",
    "    return go.splom.Dimension(values=df[column], label=column)\n",
    "\n",
    "def draw_parallel(df):\n",
    "    dimensions = [create_dimension(df, col) for col in categorical_columns]\n",
    "    target_dim = go.parcats.Dimension(values=df[target], label=target, ticktext=list(num_to_score.values()),\n",
    "                                 categoryarray=list(num_to_score.keys()))\n",
    "    dimensions.insert(0, target_dim)\n",
    "    \n",
    "    figure = go.FigureWidget(data=[go.Parcats(dimensions=dimensions,\n",
    "                                              line={'color': df[target], 'colorscale': scale, 'shape': 'hspline'},\n",
    "                                              labelfont={'size': 18, 'family': 'Times'},\n",
    "                                              tickfont={'size': 15, 'family': 'Times'},\n",
    "                                              arrangement='freeform')])\n",
    "    \n",
    "    return figure\n",
    "\n",
    "\n",
    "num_dimensions = [create_num_dimension(mdm_df, col) for col in numerical_columns]\n",
    "\n",
    "# Create scatter matrix for numerical data\n",
    "textd = [num_to_score[elem] for elem in mdm_df[target]]\n",
    "\n",
    "fig1 = go.FigureWidget(data=[\n",
    "    go.Splom(dimensions=num_dimensions, \n",
    "             marker=dict(color=mdm_df[target], \n",
    "                         size=6, \n",
    "                         colorscale=scale,\n",
    "                         line=dict(width=0.5, color='rgb(230,230,230)')), \n",
    "             text=textd)])\n",
    "\n",
    "title = \"Scatterplot Matrix (SPLOM) for Credit Score Dataset:\"\n",
    "fig1.update_layout(title=title,\n",
    "                  dragmode='select',\n",
    "                  width=600,\n",
    "                  height=600,\n",
    "                  hovermode='closest')\n",
    "\n",
    "# Create Parallel Categories for categorical data\n",
    "fig2 = draw_parallel(mdm_df)\n",
    "\n",
    "title_parallel = \"Credit Score with respect to categorical features\"\n",
    "fig2.update_layout(title=title_parallel,\n",
    "                  dragmode='select',\n",
    "                  width=900,\n",
    "                  height=500,\n",
    "                  hovermode='closest')\n",
    "\n",
    "\n",
    "# Bind two plots to extend interaction\n",
    "unique_idx = []\n",
    "def update_colors(trace, points, state):\n",
    "    selected = points.point_inds\n",
    "    global unique_idx\n",
    "    unique_idx = selected.copy()\n",
    "    \n",
    "    if len(selected) > 0:\n",
    "        fig2.data = []\n",
    "        fig2.add_traces(draw_parallel(mdm_df.loc[selected]).data)\n",
    "        \n",
    "def set_by_default(trace, points):\n",
    "    fig2.data = []\n",
    "    fig2.add_traces(draw_parallel(mdm_df).data)\n",
    "    \n",
    "    \n",
    "fig1.data[0].on_selection(update_colors)\n",
    "fig1.data[0].on_deselect(set_by_default)\n",
    "\n",
    "# Show the data\n",
    "display(widgets.VBox([fig1, fig2]))"
   ]
  },
  {
   "cell_type": "markdown",
   "id": "f427f4f1",
   "metadata": {},
   "source": [
    "The dataset has 7 dimensions which were splitted to numerical and categorical. \n",
    "Credit Score is our Target Value.\n",
    "\n",
    "The parallel sets as initial point can show us that usually people with higher education have better credit score than other.\n",
    "\n",
    "The most powerfull categorical feature is the property ownership. People who have their own homes are usually have high credit score while people who rent a housing are mosty at the average and low levels.\n",
    "Interesting fact that can be noticed from the visualization is the gender plays a role if a person does not have higher education, family partner and own property. In this case women have the low credit score and men have the average. We can suggest that in this case the amount of children can have an impact. However, using interaction we can notice that with 0 children there is unequality.\n",
    "\n",
    "The scatter matrix is drawn in order to show the numerical features.\n",
    "\n",
    "### Availabe interactions\n",
    "##### Parallel sets\n",
    "1) The user is able to switch dimensions and categories in order to have a look at the pairs of categorical features\n",
    "\n",
    "2) The user can have a look at the particular set in order to get the count of people within set\n",
    "\n",
    "##### Scatter matrix\n",
    "1) The user can zoom camera at any particular scatter plot\n",
    "\n",
    "2) The user can select the region with points and these points will be highlighted at the others scatter plots\n",
    "(lasso selection, box selection)\n",
    "\n",
    "There is a connection between scatter matrix and parallel sets. If the user selects a region at the scatter plot then the parallel sets will be adopted to the selected points. It can be used as a filter.\n",
    "For example the user would like to see the situation for people up to 35 with the salary <= 75_000. In this case they can select this region at the scatter plot (Age, Income) and parallel sets plot will be updated\n",
    "\n",
    "If the user drops selection (double click on any scatter plot), then the parallel set will be redrawn using all data\n",
    "\n",
    "The presented visualzation works better for larger amount of data"
   ]
  },
  {
   "cell_type": "markdown",
   "id": "a031a221",
   "metadata": {},
   "source": [
    "👉 **TODO 2.2:**  Choose a **hierarchical** dataset and explore it with Plotly. In your exploration, make use of at least one chart type for hierarchical data. Depending on your dataset, we recommend to use a [treemap](https://plotly.com/python/treemaps/) or a [sunburst chart](https://plotly.com/python/sunburst-charts/) or a [tree plot](https://plotly.com/python/tree-plots/).\n",
    "\n",
    "At the end of your exploration, write a short summary that reflects on the interactions you used and how they impacted your exploration (in addition to the reflections per chart, as before). For example, you could mention if they helped you to identify a specific pattern or gain a specific insight (or not)."
   ]
  },
  {
   "cell_type": "markdown",
   "id": "fb15df01",
   "metadata": {},
   "source": [
    "The dataset was taken from Kaggle = https://www.kaggle.com/datasets/brsdincer/all-natural-disasters-19002021-eosdis"
   ]
  },
  {
   "cell_type": "code",
   "execution_count": 176,
   "id": "df196738",
   "metadata": {},
   "outputs": [],
   "source": [
    "df = pd.read_csv(data_folder + disasters_file)"
   ]
  },
  {
   "cell_type": "code",
   "execution_count": 177,
   "id": "578631c9",
   "metadata": {},
   "outputs": [
    {
     "data": {
      "text/html": [
       "<div>\n",
       "<style scoped>\n",
       "    .dataframe tbody tr th:only-of-type {\n",
       "        vertical-align: middle;\n",
       "    }\n",
       "\n",
       "    .dataframe tbody tr th {\n",
       "        vertical-align: top;\n",
       "    }\n",
       "\n",
       "    .dataframe thead th {\n",
       "        text-align: right;\n",
       "    }\n",
       "</style>\n",
       "<table border=\"1\" class=\"dataframe\">\n",
       "  <thead>\n",
       "    <tr style=\"text-align: right;\">\n",
       "      <th></th>\n",
       "      <th>Year</th>\n",
       "      <th>Continent</th>\n",
       "      <th>Country</th>\n",
       "      <th>Disaster Subgroup</th>\n",
       "      <th>Disaster Type</th>\n",
       "      <th>Deaths</th>\n",
       "      <th>Damage(k.$)</th>\n",
       "    </tr>\n",
       "  </thead>\n",
       "  <tbody>\n",
       "    <tr>\n",
       "      <th>0</th>\n",
       "      <td>1900</td>\n",
       "      <td>Africa</td>\n",
       "      <td>Cabo Verde</td>\n",
       "      <td>Climatological</td>\n",
       "      <td>Drought</td>\n",
       "      <td>11000.0</td>\n",
       "      <td>NaN</td>\n",
       "    </tr>\n",
       "    <tr>\n",
       "      <th>1</th>\n",
       "      <td>1900</td>\n",
       "      <td>Asia</td>\n",
       "      <td>India</td>\n",
       "      <td>Climatological</td>\n",
       "      <td>Drought</td>\n",
       "      <td>1250000.0</td>\n",
       "      <td>NaN</td>\n",
       "    </tr>\n",
       "    <tr>\n",
       "      <th>2</th>\n",
       "      <td>1902</td>\n",
       "      <td>Americas</td>\n",
       "      <td>Guatemala</td>\n",
       "      <td>Geophysical</td>\n",
       "      <td>Earthquake</td>\n",
       "      <td>2000.0</td>\n",
       "      <td>25000.0</td>\n",
       "    </tr>\n",
       "  </tbody>\n",
       "</table>\n",
       "</div>"
      ],
      "text/plain": [
       "   Year Continent     Country Disaster Subgroup Disaster Type     Deaths  \\\n",
       "0  1900    Africa  Cabo Verde    Climatological       Drought    11000.0   \n",
       "1  1900      Asia       India    Climatological       Drought  1250000.0   \n",
       "2  1902  Americas   Guatemala       Geophysical    Earthquake     2000.0   \n",
       "\n",
       "   Damage(k.$)  \n",
       "0          NaN  \n",
       "1          NaN  \n",
       "2      25000.0  "
      ]
     },
     "execution_count": 177,
     "metadata": {},
     "output_type": "execute_result"
    }
   ],
   "source": [
    "# let's identify interesting columns and rename them\n",
    "columns = ['Year', 'Continent', 'Country', 'Disaster Subgroup', 'Disaster Type', 'Total Deaths', \"Total Damages ('000 US$)\"]\n",
    "\n",
    "new_column_names = ['Year', 'Continent', 'Country', 'Disaster Subgroup','Disaster Type', 'Deaths', \"Damage(k.$)\"]\n",
    "\n",
    "df = df[columns].rename(columns=dict(zip(columns, new_column_names)))\n",
    "df.head(3)"
   ]
  },
  {
   "cell_type": "markdown",
   "id": "4578c452",
   "metadata": {},
   "source": [
    "The following hierarchy will be used:\n",
    "1) Continent\n",
    "2) Disaster Type \n",
    "3) Country\n",
    "\n",
    "Year will be for interaction"
   ]
  },
  {
   "cell_type": "code",
   "execution_count": 178,
   "id": "7bac2db3",
   "metadata": {},
   "outputs": [],
   "source": [
    "# Let's do some preprocessing\n",
    "basic_columns = ['Year', 'Continent', 'Country', 'Disaster Subgroup', 'Disaster Type']\n",
    "target_columns = ['Deaths', 'Damage(k.$)']\n",
    "\n",
    "# Let's get rid of nan-values for the main hierarchical columns\n",
    "df = df[df[basic_columns].notna().all(axis=1)]\n",
    "# ---------------------------------------------\n",
    "\n",
    "# Remove rows which contain only nan-s for all target columns. They do not make value for us\n",
    "df = df[df[target_columns].notna().any(axis=1)]\n",
    "# ----------------------------------------------\n",
    "\n",
    "# From 2000\n",
    "df = df[df['Year'] >= 2000]\n",
    "#--------------------------\n",
    "\n",
    "# Make some country names shorter\n",
    "def convert(name):\n",
    "    return name.split('(')[0].rstrip(' ')\n",
    "df['Country'] = df['Country'].apply(convert)\n",
    "# -------------------------------------------\n",
    "\n",
    "# Make copy to hande Nans for targets\n",
    "df_deaths = df[df['Deaths'].notna()].copy()\n",
    "df_damage = df[df['Damage(k.$)'].notna()].copy()\n",
    "# ----------------------------------------------\n",
    "\n",
    "# Aggregate over years\n",
    "df_deaths = df_deaths.groupby(basic_columns[1:])[target_columns].sum().reset_index()\n",
    "df_damage = df_damage.groupby(basic_columns[1:])[target_columns].sum().reset_index()\n",
    "# ----------------------------------------------------------------------------------\n",
    "\n",
    "# Convert to better values\n",
    "df_deaths['Deaths thsd'] = df_deaths['Deaths'].apply(lambda x: round(x / 1_000, 3))\n",
    "df_damage['Damage(bil.$)'] = df_damage['Damage(k.$)'].apply(lambda x: round(x / 1_000_000, 5))\n",
    "# --------------------------------------------------------------------------------------------"
   ]
  },
  {
   "cell_type": "code",
   "execution_count": 179,
   "id": "10052756",
   "metadata": {
    "scrolled": false
   },
   "outputs": [],
   "source": [
    "fig_deaths = px.treemap(df_deaths, path=[px.Constant('all'), 'Continent', 'Disaster Type', 'Country'],\n",
    "                        values='Deaths thsd', color='Deaths thsd', color_continuous_scale='YlOrRd')\n",
    "\n",
    "fig_deaths.update_traces(hovertemplate='labels=%{label}<br>Total deaths=%{value}<extra></extra>')\n",
    "tmp = fig_deaths.update_layout(margin=dict(t=50, l=25, r=25, b=25), \n",
    "                               width=1000, height=800, title='Data about deaths (thsd.)')"
   ]
  },
  {
   "cell_type": "code",
   "execution_count": 180,
   "id": "da053546",
   "metadata": {},
   "outputs": [],
   "source": [
    "fig_damage = px.treemap(df_damage, path=[px.Constant('all'), 'Continent', 'Disaster Type', 'Country'],\n",
    "                        values='Damage(bil.$)', color='Damage(bil.$)', color_continuous_scale='RdBu')\n",
    "\n",
    "fig_damage.update_traces(hovertemplate='labels=%{label}<br>Total damage=%{value}<extra></extra>')\n",
    "tmp = fig_damage.update_layout(margin=dict(t=50, l=25, r=25, b=25), \n",
    "                               width=1000, height=800, title='Data about damage (bil.$)')"
   ]
  },
  {
   "cell_type": "code",
   "execution_count": 181,
   "id": "34b765d3",
   "metadata": {},
   "outputs": [],
   "source": [
    "fig_show = go.FigureWidget(data=[fig_deaths.data[0]])\n",
    "tmp = fig_show.update_layout(title='Data about deaths (thsd.)', width=1000, height=800)"
   ]
  },
  {
   "cell_type": "code",
   "execution_count": 182,
   "id": "6dadeab9",
   "metadata": {},
   "outputs": [],
   "source": [
    "button_deaths = widgets.Button(description='Deaths')\n",
    "button_damage = widgets.Button(description='Damage')\n",
    "\n",
    "def change_data_deaths(callback):\n",
    "    fig_show.data = []\n",
    "    fig_show.add_traces(fig_deaths.data[0])\n",
    "    tmp = fig_show.update_layout(title='Data about deaths (thsd.)', width=1000, height=800)\n",
    "    \n",
    "def change_data_damage(callback):\n",
    "    fig_show.data = []\n",
    "    fig_show.add_traces(fig_damage.data[0])\n",
    "    tmp = fig_show.update_layout(title='Data about damage (bil.$)', width=1000, height=800)\n",
    "        \n",
    "        \n",
    "button_deaths.on_click(change_data_deaths)\n",
    "button_damage.on_click(change_data_damage)\n",
    "\n",
    "container = widgets.HBox([button_deaths, button_damage])"
   ]
  },
  {
   "cell_type": "code",
   "execution_count": 183,
   "id": "3e3d4d6a",
   "metadata": {
    "scrolled": false
   },
   "outputs": [
    {
     "data": {
      "application/vnd.jupyter.widget-view+json": {
       "model_id": "1aefa492365e457ea0b38adb299cde1c",
       "version_major": 2,
       "version_minor": 0
      },
      "text/plain": [
       "VBox(children=(HBox(children=(Button(description='Deaths', style=ButtonStyle()), Button(description='Damage', …"
      ]
     },
     "metadata": {},
     "output_type": "display_data"
    }
   ],
   "source": [
    "widgets.VBox([container, fig_show])"
   ]
  },
  {
   "cell_type": "markdown",
   "id": "2760cd6b",
   "metadata": {},
   "source": [
    "Here we can observe the amount of victims and the damage of natural disasters over the world since 2020.\n",
    "There is an oppurtunity to switch between treemaps using buttons. \n",
    "The user also can interact with treemap clicking of the interesting rectangles. The navigation bar is shown at the top of the reactangle.\n",
    "The values are highlighted if user points at the particular rectangle"
   ]
  },
  {
   "cell_type": "markdown",
   "id": "dae8993c",
   "metadata": {},
   "source": [
    "The used representation allows us to identify the most horrible disasters for each continent "
   ]
  }
 ],
 "metadata": {
  "kernelspec": {
   "display_name": "Python 3 (ipykernel)",
   "language": "python",
   "name": "python3"
  },
  "language_info": {
   "codemirror_mode": {
    "name": "ipython",
    "version": 3
   },
   "file_extension": ".py",
   "mimetype": "text/x-python",
   "name": "python",
   "nbconvert_exporter": "python",
   "pygments_lexer": "ipython3",
   "version": "3.10.9"
  }
 },
 "nbformat": 4,
 "nbformat_minor": 5
}
